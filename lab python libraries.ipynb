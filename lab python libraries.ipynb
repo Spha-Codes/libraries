{
 "cells": [
  {
   "cell_type": "markdown",
   "id": "f100bff1-d9fe-4653-9359-f8f4da9d240a",
   "metadata": {},
   "source": [
    "#### Install essential libraries"
   ]
  },
  {
   "cell_type": "code",
   "execution_count": 1,
   "id": "54a95805-1d18-4662-bb8b-b147246384fe",
   "metadata": {},
   "outputs": [],
   "source": [
    "# !pip install numpy\n",
    "# !pip install pandas\n",
    "# !pip install matplotlib\n",
    "# !pip install seaborn\n",
    "# !pip install scikit-learn\n",
    "# !pip install scipy\n",
    "# !pip install statsmodels\n",
    "# !pip install plotly\n",
    "# !pip install xgboost\n",
    "# !pip install lightgbm\n",
    "# !pip install tensorflow\n",
    "# !pip install keras\n",
    "# !pip install pytorch\n",
    "# !pip install torchvision\n",
    "# !pip install transformers\n",
    "# !pip install nltk\n",
    "# !pip install spacy\n",
    "# !pip install gensim\n",
    "# !pip install jupyterlab\n",
    "# !pip install jupyter_contrib_nbextensions\n",
    "# !pip install mlflow\n",
    "# !pip install streamlit\n",
    "# !pip install pydantic\n",
    "# !pip install matplotlib_venn\n",
    "# !pip install matplotlib_venn"
   ]
  }
 ],
 "metadata": {
  "kernelspec": {
   "display_name": "Python 3 (ipykernel)",
   "language": "python",
   "name": "python3"
  },
  "language_info": {
   "codemirror_mode": {
    "name": "ipython",
    "version": 3
   },
   "file_extension": ".py",
   "mimetype": "text/x-python",
   "name": "python",
   "nbconvert_exporter": "python",
   "pygments_lexer": "ipython3",
   "version": "3.12.4"
  }
 },
 "nbformat": 4,
 "nbformat_minor": 5
}
